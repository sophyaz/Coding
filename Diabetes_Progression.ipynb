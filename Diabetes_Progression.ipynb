{
 "cells": [
  {
   "cell_type": "code",
   "execution_count": 8,
   "id": "8240a430-d335-4075-86f4-b911e62c6e2d",
   "metadata": {},
   "outputs": [
    {
     "name": "stdout",
     "output_type": "stream",
     "text": [
      "Intercept: 0.34690553745928343\n",
      "Coefficients: [ 0.03465559  0.1803234  -0.04219339  0.00820563 -0.03230381  0.11631364\n",
      "  0.03744793  0.07425473]\n",
      "R-squared: 0.2550028117674178\n",
      "     Actual  Predicted\n",
      "668       0   0.335500\n",
      "324       0   0.238099\n",
      "624       0   0.151052\n",
      "690       0   0.240136\n",
      "473       0   0.481424\n"
     ]
    }
   ],
   "source": [
    "# diabetes_regression.ipynb\n",
    "\n",
    "# Import necessary libraries\n",
    "import pandas as pd\n",
    "import numpy as np\n",
    "from sklearn.model_selection import train_test_split\n",
    "from sklearn.preprocessing import StandardScaler\n",
    "from sklearn.linear_model import LinearRegression\n",
    "from sklearn.metrics import r2_score\n",
    "\n",
    "# Step 1: Read the dataset\n",
    "data = pd.read_csv('diabetes_updated.csv')\n",
    "\n",
    "# Step 2: Differentiate between independent and dependent variables\n",
    "X = data.drop(columns=['Outcome'])\n",
    "Y = data['Outcome']\n",
    "\n",
    "# Step 3: Generate training and test sets (80% training, 20% test)\n",
    "X_train, X_test, Y_train, Y_test = train_test_split(X, Y, test_size=0.2, random_state=42)\n",
    "\n",
    "# Step 4: Analyze feature types and apply StandardScaler where needed\n",
    "# Assume that all features are numerical and require scaling for simplicity\n",
    "scaler = StandardScaler()\n",
    "X_train_scaled = scaler.fit_transform(X_train)\n",
    "X_test_scaled = scaler.transform(X_test)\n",
    "\n",
    "# Step 5: Generate a multiple linear regression model using the training set\n",
    "model = LinearRegression()\n",
    "model.fit(X_train_scaled, Y_train)\n",
    "\n",
    "# Step 6: Print out the intercept and coefficients of the trained model\n",
    "print(\"Intercept:\", model.intercept_)\n",
    "print(\"Coefficients:\", model.coef_)\n",
    "\n",
    "# Step 7: Generate predictions for the test set\n",
    "Y_pred = model.predict(X_test_scaled)\n",
    "\n",
    "# To make the interpretation of our predictions more meaningful, we need to reverse the scaling.\n",
    "# However, as we're comparing with the original `progression` which wasn't scaled, this step is not necessary here.\n",
    "\n",
    "# Step 8: Compute R-squared for the model on the test set\n",
    "r2 = r2_score(Y_test, Y_pred)\n",
    "print(\"R-squared:\", r2)\n",
    "\n",
    "# Additional: Compare predictions to actual values\n",
    "comparison = pd.DataFrame({'Actual': Y_test, 'Predicted': Y_pred})\n",
    "print(comparison.head())\n"
   ]
  },
  {
   "cell_type": "code",
   "execution_count": null,
   "id": "44082544-57b5-47e3-9e48-241ab2073e31",
   "metadata": {},
   "outputs": [],
   "source": []
  }
 ],
 "metadata": {
  "kernelspec": {
   "display_name": "anaconda-ai-2024.04-py310",
   "language": "python",
   "name": "conda-env-anaconda-ai-2024.04-py310-py"
  },
  "language_info": {
   "codemirror_mode": {
    "name": "ipython",
    "version": 3
   },
   "file_extension": ".py",
   "mimetype": "text/x-python",
   "name": "python",
   "nbconvert_exporter": "python",
   "pygments_lexer": "ipython3",
   "version": "3.10.13"
  }
 },
 "nbformat": 4,
 "nbformat_minor": 5
}
